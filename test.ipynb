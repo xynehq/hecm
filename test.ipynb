{
 "cells": [
  {
   "cell_type": "code",
   "execution_count": 1,
   "id": "25819075",
   "metadata": {},
   "outputs": [
    {
     "data": {
      "text/plain": [
       "True"
      ]
     },
     "execution_count": 1,
     "metadata": {},
     "output_type": "execute_result"
    }
   ],
   "source": [
    "import os\n",
    "\n",
    "import rich\n",
    "from dotenv import load_dotenv\n",
    "\n",
    "from hecm.gh_utils import GithubIssueAnalyzer\n",
    "\n",
    "load_dotenv()"
   ]
  },
  {
   "cell_type": "code",
   "execution_count": null,
   "id": "3b60ffe2",
   "metadata": {},
   "outputs": [
    {
     "data": {
      "application/vnd.jupyter.widget-view+json": {
       "model_id": "05f4dfda91584f9faba255203280f7e1",
       "version_major": 2,
       "version_minor": 0
      },
      "text/plain": [
       "Fetching open issues: 0page [00:00, ?page/s]"
      ]
     },
     "metadata": {},
     "output_type": "display_data"
    },
    {
     "data": {
      "application/vnd.jupyter.widget-view+json": {
       "model_id": "ad49d0208d9f4125b9dd28f74fb83024",
       "version_major": 2,
       "version_minor": 0
      },
      "text/plain": [
       "Fetching closed issues: 0page [00:00, ?page/s]"
      ]
     },
     "metadata": {},
     "output_type": "display_data"
    },
    {
     "data": {
      "application/vnd.jupyter.widget-view+json": {
       "model_id": "a340e0f1467e49eaa18ec82e0b4d6461",
       "version_major": 2,
       "version_minor": 0
      },
      "text/plain": [
       "Fetching linked PRs:   0%|          | 0/2130 [00:00<?, ?it/s]"
      ]
     },
     "metadata": {},
     "output_type": "display_data"
    }
   ],
   "source": [
    "analyzer = GithubIssueAnalyzer(\n",
    "    repo_owner=\"juspay\",\n",
    "    repo_name=\"hyperswitch\",\n",
    "    github_token=os.getenv(\"GITHUB_TOKEN\"),\n",
    ")\n",
    "\n",
    "issues = analyzer.fetch_issues(max_issues=100)"
   ]
  },
  {
   "cell_type": "code",
   "execution_count": null,
   "id": "d513f390",
   "metadata": {},
   "outputs": [],
   "source": []
  }
 ],
 "metadata": {
  "kernelspec": {
   "display_name": ".venv",
   "language": "python",
   "name": "python3"
  },
  "language_info": {
   "codemirror_mode": {
    "name": "ipython",
    "version": 3
   },
   "file_extension": ".py",
   "mimetype": "text/x-python",
   "name": "python",
   "nbconvert_exporter": "python",
   "pygments_lexer": "ipython3",
   "version": "3.13.7"
  }
 },
 "nbformat": 4,
 "nbformat_minor": 5
}
