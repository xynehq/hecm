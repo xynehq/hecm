{
 "cells": [
  {
   "cell_type": "code",
   "execution_count": null,
   "id": "c09eda22",
   "metadata": {},
   "outputs": [],
   "source": [
    "import os\n",
    "\n",
    "from dotenv import load_dotenv\n",
    "\n",
    "from hecm import SWEBenchDataGenerator\n",
    "from hecm.utils import load_issues\n",
    "\n",
    "load_dotenv()"
   ]
  },
  {
   "cell_type": "code",
   "execution_count": null,
   "id": "71aea361",
   "metadata": {},
   "outputs": [],
   "source": [
    "analyzer = SWEBenchDataGenerator(\n",
    "    repo_owner=\"juspay\",\n",
    "    repo_name=\"hyperswitch\",\n",
    "    github_token=os.getenv(\"GITHUB_TOKEN\"),\n",
    "    gold_patch_ignore_dirs=[\n",
    "        \".github\",\n",
    "        \".devcontainer\",\n",
    "        \"api-reference\",\n",
    "        \"cypress-tests\",\n",
    "        \"cypress-test-files\",\n",
    "        \"docs\",\n",
    "    ],\n",
    "    test_dirs=[\"cypress-tests\", \"cypress-test-files\"],\n",
    ")"
   ]
  },
  {
   "cell_type": "code",
   "execution_count": null,
   "id": "b2e67741",
   "metadata": {},
   "outputs": [],
   "source": [
    "issues = analyzer.generate_issues(save_to=\"data/issues/juspay___hyperswitch.json\")"
   ]
  },
  {
   "cell_type": "code",
   "execution_count": null,
   "id": "17c949b1",
   "metadata": {},
   "outputs": [],
   "source": [
    "issues = load_issues(\"data/issues/juspay___hyperswitch.json\")\n",
    "issues_with_linked_prs = analyzer.generate_linked_prs(\n",
    "    issues, save_to=\"data/issues/juspay___hyperswitch.json\"\n",
    ")"
   ]
  }
 ],
 "metadata": {
  "kernelspec": {
   "display_name": ".venv",
   "language": "python",
   "name": "python3"
  },
  "language_info": {
   "name": "python",
   "version": "3.13.7"
  }
 },
 "nbformat": 4,
 "nbformat_minor": 5
}
