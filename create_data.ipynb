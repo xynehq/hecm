{
 "cells": [
  {
   "cell_type": "code",
   "execution_count": null,
   "id": "c09eda22",
   "metadata": {},
   "outputs": [],
   "source": [
    "import os\n",
    "\n",
    "from dotenv import load_dotenv\n",
    "\n",
    "from hecm.dataset_generation import CodingAgentDataGenerator\n",
    "from hecm.dataset_generation.utils import load_issues\n",
    "\n",
    "load_dotenv()"
   ]
  },
  {
   "cell_type": "code",
   "execution_count": null,
   "id": "71aea361",
   "metadata": {},
   "outputs": [],
   "source": [
    "analyzer = CodingAgentDataGenerator(\n",
    "    repo_owner=\"juspay\",\n",
    "    repo_name=\"hyperswitch\",\n",
    "    github_token=os.getenv(\"GITHUB_TOKEN\"),\n",
    "    gold_patch_ignore_dirs=[\n",
    "        \".github\",\n",
    "        \".devcontainer\",\n",
    "        \"api-reference\",\n",
    "        \"cypress-tests\",\n",
    "        \"cypress-test-files\",\n",
    "        \"docs\",\n",
    "    ],\n",
    "    test_dirs=[\"cypress-tests\", \"cypress-test-files\"],\n",
    ")"
   ]
  },
  {
   "cell_type": "code",
   "execution_count": null,
   "id": "b2e67741",
   "metadata": {},
   "outputs": [],
   "source": [
    "issues = analyzer.generate_issues(save_to=\"data/issues/juspay___hyperswitch.json\")"
   ]
  },
  {
   "cell_type": "code",
   "execution_count": null,
   "id": "17c949b1",
   "metadata": {},
   "outputs": [],
   "source": [
    "issues = load_issues(\"data/issues/juspay___hyperswitch.json\")\n",
    "issues_with_linked_prs = analyzer.generate_linked_prs(\n",
    "    issues, save_to=\"data/issues/juspay___hyperswitch.json\"\n",
    ")"
   ]
  },
  {
   "cell_type": "code",
   "execution_count": null,
   "id": "f92e5860",
   "metadata": {},
   "outputs": [],
   "source": [
    "issues_with_linked_prs = load_issues(\"data/issues/juspay___hyperswitch.json\")\n",
    "data_points = analyzer.generate_data_points(issues_with_linked_prs)"
   ]
  },
  {
   "cell_type": "code",
   "execution_count": null,
   "id": "5daf7e52",
   "metadata": {},
   "outputs": [],
   "source": [
    "data_points.export_to_huggingface(\"geekyrakshit/rust-dev\", append_to_dataset=False)"
   ]
  }
 ],
 "metadata": {
  "kernelspec": {
   "display_name": ".venv",
   "language": "python",
   "name": "python3"
  },
  "language_info": {
   "codemirror_mode": {
    "name": "ipython",
    "version": 3
   },
   "file_extension": ".py",
   "mimetype": "text/x-python",
   "name": "python",
   "nbconvert_exporter": "python",
   "pygments_lexer": "ipython3",
   "version": "3.13.7"
  }
 },
 "nbformat": 4,
 "nbformat_minor": 5
}
